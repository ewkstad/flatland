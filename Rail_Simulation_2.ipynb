{
 "cells": [
  {
   "cell_type": "code",
   "execution_count": 1,
   "metadata": {},
   "outputs": [],
   "source": [
    "import time\n",
    "import numpy as np\n",
    "from copy import copy\n",
    "\n",
    "# First of all we import the Flatland rail environment\n",
    "from rail_env import RailEnv\n",
    "from observations import TreeObsForRailEnvAug, feat_order\n",
    "\n",
    "from flatland.envs.rail_generators import sparse_rail_generator\n",
    "from flatland.envs.schedule_generators import sparse_schedule_generator\n",
    "# We also include a renderer because we want to visualize what is going on in the environment\n",
    "from flatland.utils.rendertools import RenderTool, AgentRenderVariant\n",
    "from flatland.envs.malfunction_generators import malfunction_from_params\n",
    "from flatland.envs.agent_utils import RailAgentStatus\n",
    "\n",
    "from collections import defaultdict\n",
    "\n",
    "from scipy.ndimage import rotate\n",
    "from scipy.sparse.csr import csr_matrix\n",
    "from scipy.sparse import coo_matrix\n",
    "import scipy.sparse as sp\n",
    "\n",
    "from gcn import GCN, args\n",
    "from multihead_attention import MultiHeadAttention\n",
    "\n",
    "import networkx as nx\n",
    "\n",
    "import warnings\n",
    "warnings.filterwarnings('ignore')\n",
    "\n",
    "import matplotlib.pyplot as plt\n",
    "%matplotlib inline\n",
    "\n",
    "import torch\n",
    "device = torch.device('cuda')"
   ]
  },
  {
   "cell_type": "code",
   "execution_count": 2,
   "metadata": {},
   "outputs": [],
   "source": [
    "width = 100  # With of map\n",
    "height = 100  # Height of map\n",
    "nr_trains = 50  # Number of trains that have an assigned task in the env\n",
    "cities_in_map = 20  # Number of cities where agents can start or end\n",
    "seed = 25  # Random seed\n",
    "grid_distribution_of_cities = False  # Type of city distribution, if False cities are randomly placed\n",
    "max_rails_between_cities = 2  # Max number of tracks allowed between cities. This is number of entry point to a city\n",
    "max_rail_in_cities = 6  # Max number of parallel tracks within a city, representing a realistic trainstation\n"
   ]
  },
  {
   "cell_type": "code",
   "execution_count": 3,
   "metadata": {},
   "outputs": [],
   "source": [
    "rail_generator = sparse_rail_generator(max_num_cities=cities_in_map,\n",
    "                                       seed=seed,\n",
    "                                       grid_mode=grid_distribution_of_cities,\n",
    "                                       max_rails_between_cities=max_rails_between_cities,\n",
    "                                       max_rails_in_city=max_rail_in_cities,\n",
    "                                       )"
   ]
  },
  {
   "cell_type": "code",
   "execution_count": 4,
   "metadata": {},
   "outputs": [],
   "source": [
    "# The schedule generator can make very basic schedules with a start point, end point and a speed profile for each agent.\n",
    "# The speed profiles can be adjusted directly as well as shown later on. We start by introducing a statistical\n",
    "# distribution of speed profiles\n",
    "\n",
    "# Different agent types (trains) with different speeds.\n",
    "speed_ration_map = {1.: 0.25,  # Fast passenger train\n",
    "                    1. / 2.: 0.25,  # Fast freight train\n",
    "                    1. / 3.: 0.25,  # Slow commuter train\n",
    "                    1. / 4.: 0.25}  # Slow freight train"
   ]
  },
  {
   "cell_type": "code",
   "execution_count": 5,
   "metadata": {},
   "outputs": [],
   "source": [
    "# We can now initiate the schedule generator with the given speed profiles\n",
    "schedule_generator = sparse_schedule_generator(speed_ration_map)"
   ]
  },
  {
   "cell_type": "code",
   "execution_count": 6,
   "metadata": {},
   "outputs": [],
   "source": [
    "# We can furthermore pass stochastic data to the RailEnv constructor which will allow for stochastic malfunctions\n",
    "# during an episode.\n",
    "\n",
    "stochastic_data = {'prop_malfunction': 0.3,  # Percentage of defective agents\n",
    "                   'malfunction_rate': 30,  # Rate of malfunction occurence\n",
    "                   'min_duration': 3,  # Minimal duration of malfunction\n",
    "                   'max_duration': 20  # Max duration of malfunction\n",
    "                   }"
   ]
  },
  {
   "cell_type": "code",
   "execution_count": 7,
   "metadata": {},
   "outputs": [],
   "source": [
    "# Tree predictor\n",
    "max_depth = 3\n",
    "RAD = 5\n",
    "observation_builder = TreeObsForRailEnvAug(max_depth=max_depth, RAD=RAD)"
   ]
  },
  {
   "cell_type": "code",
   "execution_count": 8,
   "metadata": {},
   "outputs": [],
   "source": [
    "# Custom observation builder with predictor, uncomment line below if you want to try this one\n",
    "# observation_builder = TreeObsForRailEnv(max_depth=2, predictor=ShortestPathPredictorForRailEnv())\n",
    "\n",
    "# Construct the enviornment with the given observation, generataors, predictors, and stochastic data\n",
    "env = RailEnv(width=width,\n",
    "              height=height,\n",
    "              rail_generator=rail_generator,\n",
    "              schedule_generator=schedule_generator,\n",
    "              number_of_agents=nr_trains,\n",
    "              malfunction_generator_and_process_data=malfunction_from_params(stochastic_data),\n",
    "              obs_builder_object=observation_builder,\n",
    "              remove_agents_at_target=True  # Removes agents at the end of their journey to make space for others\n",
    "             )\n"
   ]
  },
  {
   "cell_type": "code",
   "execution_count": 9,
   "metadata": {},
   "outputs": [],
   "source": [
    "def my_controller():\n",
    "    \"\"\"\n",
    "    You are supposed to write this controller\n",
    "    \"\"\"\n",
    "    _action = {}\n",
    "    for _idx in range(env.number_of_agents):\n",
    "        _action[_idx] = np.random.randint(0, 5)\n",
    "    return _action"
   ]
  },
  {
   "cell_type": "code",
   "execution_count": 10,
   "metadata": {},
   "outputs": [],
   "source": [
    "_, _ = env.reset()"
   ]
  },
  {
   "cell_type": "code",
   "execution_count": 11,
   "metadata": {},
   "outputs": [],
   "source": [
    "for i in range(50):\n",
    "    obs, all_rewards, done, info = env.step(my_controller())"
   ]
  },
  {
   "cell_type": "markdown",
   "metadata": {},
   "source": [
    "### Utilities"
   ]
  },
  {
   "cell_type": "code",
   "execution_count": 12,
   "metadata": {},
   "outputs": [],
   "source": [
    "\n",
    "def scale(a, m, M):\n",
    "    return (a-m)/(M-m)\n",
    "\n",
    "def rotate_map(maps, dir_):\n",
    "    rot_deg = (dir_-4)*90\n",
    "    if rot_deg == -360: rot_deg = 0\n",
    "    if rot_deg != 0:\n",
    "        maps = rotate(maps, rot_deg)\n",
    "    return maps\n",
    "\n",
    "def get_rotation_dict():\n",
    "    xx, yy = np.meshgrid(np.arange(11), np.arange(11))\n",
    "    idx_mat = yy*(2*RAD+1) + xx\n",
    "    rotation_dict = dict()\n",
    "    for dir_ in range(0, 4):\n",
    "        rotation_dict[dir_] = rotate_map(idx_mat, dir_).ravel()\n",
    "    return rotation_dict\n",
    "\n",
    "def get_feature_matrix(handle):\n",
    "    \n",
    "    feature_matrix = np.zeros(((2*RAD+1)**2, len(feat_order)))\n",
    "\n",
    "    dist_min_to_target_index = feat_order['dist_min_to_target']\n",
    "    try:\n",
    "        cy, cx = env.agents[handle].position\n",
    "    except TypeError:\n",
    "        cy, cx = env.agents[handle].initial_position\n",
    "    dist_scalar = env.obs_builder.search_obs[handle].pop('distance_scalar')\n",
    "    dist_min, dist_max = 0, 0\n",
    "    for node_id, node in env.obs_builder.search_obs[handle].items():\n",
    "        tot_dist, py, px, dir_ = [int(el) for el in node_id.split('_')]\n",
    "        y, x = py-cy+RAD, px-cx+RAD\n",
    "        if (y > -1) and y < (2*RAD + 1) and (x > -1) and (x < 2*RAD + 1):\n",
    "            idx = y*(2*RAD + 1) + x\n",
    "            for ch, el in enumerate(node):\n",
    "                if el is not None:\n",
    "                    if ch == dist_min_to_target_index:\n",
    "                        el = (dist_scalar-el)/dist_scalar\n",
    "                        dist_max = max(dist_max, el)\n",
    "                    feature_matrix[idx, ch] = el\n",
    "\n",
    "    feature_matrix[:, dist_min_to_target_index] = scale(feature_matrix[:, dist_min_to_target_index], dist_min, dist_max)\n",
    "    \n",
    "    return feature_matrix[rotation_dict[env.agents[handle].direction]]\n",
    "\n",
    "def get_adjacency_matrix(handle):\n",
    "\n",
    "    try:\n",
    "        cy, cx = env.agents[handle].position\n",
    "    except TypeError:\n",
    "        cy, cx = env.agents[handle].initial_position\n",
    "\n",
    "    A = np.zeros(((2*RAD+1)**2, (2*RAD+1)**2))\n",
    "\n",
    "    for branch_id, branch in env.obs_builder.search_branches[handle].items():\n",
    "        _, py, px, _ = [int(el) for el in branch_id.split('_')]\n",
    "        y, x = py-cy+RAD, px-cx+RAD\n",
    "        explore_branch = False\n",
    "        if ((y > -1) and y < (2*RAD + 1) and (x > -1) and (x < 2*RAD + 1)):\n",
    "            explore_branch = True\n",
    "            idx = y*(2*RAD+1) + x\n",
    "        if explore_branch:\n",
    "            for sub_branch in branch:\n",
    "                idxs = []\n",
    "                for py, px in sub_branch:\n",
    "                    y, x = py-cy+RAD, px-cx+RAD\n",
    "                    if (y > -1) and y < (2*RAD + 1) and (x > -1) and (x < 2*RAD + 1):\n",
    "                        idx = y*(2*RAD+1) + x\n",
    "                        idxs.append(idx)\n",
    "                    else:\n",
    "                        explore_branch = False\n",
    "                    if explore_branch == False:\n",
    "                        break\n",
    "                A_row = np.zeros((2*RAD+1)**2)\n",
    "                A_row[idxs] = True\n",
    "                A[idxs, :] += A_row\n",
    "\n",
    "    return (A[rotation_dict[env.agents[handle].direction]]>0).astype(float)\n",
    "\n",
    "def build_graph():\n",
    "    graph = dict()\n",
    "    for handle in range(env.number_of_agents):\n",
    "        if not env.agents in (RailAgentStatus.DONE, RailAgentStatus.DONE_REMOVED):\n",
    "            nodes = get_feature_matrix(handle)\n",
    "            edges = get_adjacency_matrix(handle)\n",
    "            graph[handle] = (nodes, edges)\n",
    "    return graph\n",
    "\n",
    "def build_tensors():\n",
    "    all_features = torch.zeros((env.number_of_agents, (2*RAD+1)**2, len(feat_order))).float()\n",
    "    all_supports = torch.zeros((env.number_of_agents, (2*RAD+1)**2, (2*RAD+1)**2)).float()\n",
    "    for handle, (features, adj) in graph.items():\n",
    "        all_features[handle] = preprocess_features(features)\n",
    "        all_supports[handle] = preprocess_adj(adj)\n",
    "    return all_features, all_supports\n",
    "\n",
    "def preprocess_features(features):\n",
    "    \"\"\"\n",
    "    Row-normalize feature matrix\n",
    "    \"\"\"\n",
    "    rowsum = features.sum(1) # get sum of each row, [2708, 1]\n",
    "    r_inv = np.power(rowsum, -1).flatten() # 1/rowsum, [2708]\n",
    "    r_inv[np.isinf(r_inv)] = 0. # zero inf data\n",
    "    r_mat_inv = np.diag(r_inv) # sparse diagonal matrix, [2708, 2708]\n",
    "    \n",
    "    return torch.from_numpy(r_mat_inv.dot(features)).float() # D^-1:[2708, 2708]@X:[2708, 2708]\n",
    "\n",
    "def preprocess_adj(adj):\n",
    "    \"\"\"Symmetrically normalize adjacency matrix.\"\"\"\n",
    "    adj = ((adj + np.eye(adj.shape[0])) > 0).astype('float')\n",
    "    rowsum = np.array(adj.sum(1)) # D\n",
    "    d_inv_sqrt = np.power(rowsum, -0.5).flatten() # D^-0.5\n",
    "    d_inv_sqrt[np.isinf(d_inv_sqrt)] = 0.\n",
    "    d_mat_inv_sqrt = np.diag(d_inv_sqrt) # D^-0.5\n",
    "    return torch.from_numpy(adj.dot(d_mat_inv_sqrt).transpose().dot(d_mat_inv_sqrt)).float() # D^-0.5AD^0.5\n",
    "\n",
    "\n",
    "rotation_dict = get_rotation_dict()"
   ]
  },
  {
   "cell_type": "markdown",
   "metadata": {},
   "source": [
    "### Constructing Graph and Tensors"
   ]
  },
  {
   "cell_type": "code",
   "execution_count": 13,
   "metadata": {},
   "outputs": [
    {
     "name": "stdout",
     "output_type": "stream",
     "text": [
      "0.044882 second runtime\n"
     ]
    }
   ],
   "source": [
    "start = time.time()\n",
    "\n",
    "graph = build_graph()\n",
    "feature_tens, support_tens = build_tensors()\n",
    "\n",
    "end = time.time()\n",
    "print('{} second runtime'.format(round(end-start, 6)))\n"
   ]
  },
  {
   "cell_type": "code",
   "execution_count": 14,
   "metadata": {},
   "outputs": [
    {
     "data": {
      "text/plain": [
       "(torch.Size([50, 121, 24]), torch.Size([50, 121, 121]))"
      ]
     },
     "execution_count": 14,
     "metadata": {},
     "output_type": "execute_result"
    }
   ],
   "source": [
    "feature_tens.shape, support_tens.shape"
   ]
  },
  {
   "cell_type": "code",
   "execution_count": 41,
   "metadata": {},
   "outputs": [
    {
     "name": "stdout",
     "output_type": "stream",
     "text": [
      "handle:  5\n"
     ]
    }
   ],
   "source": [
    "handle = np.random.randint(env.number_of_agents)\n",
    "print('handle: ', handle)\n",
    "features, supports = graph[handle]"
   ]
  },
  {
   "cell_type": "markdown",
   "metadata": {},
   "source": [
    "### Scaled inverse distance to target encoding"
   ]
  },
  {
   "cell_type": "code",
   "execution_count": 42,
   "metadata": {},
   "outputs": [
    {
     "data": {
      "text/plain": [
       "<matplotlib.image.AxesImage at 0x2d0536eec08>"
      ]
     },
     "execution_count": 42,
     "metadata": {},
     "output_type": "execute_result"
    },
    {
     "data": {
      "image/png": "[encoded data removed]",
      "text/plain": [
       "<Figure size 432x288 with 1 Axes>"
      ]
     },
     "metadata": {
      "needs_background": "light"
     },
     "output_type": "display_data"
    }
   ],
   "source": [
    "plt.imshow(features[:, feat_order['dist_min_to_target']].reshape((2*RAD+1, 2*RAD+1)))"
   ]
  },
  {
   "cell_type": "code",
   "execution_count": 89,
   "metadata": {},
   "outputs": [
    {
     "name": "stdout",
     "output_type": "stream",
     "text": [
      "handle:  18\n"
     ]
    },
    {
     "data": {
      "text/plain": [
       "<matplotlib.image.AxesImage at 0x2d053d6fdc8>"
      ]
     },
     "execution_count": 89,
     "metadata": {},
     "output_type": "execute_result"
    },
    {
     "data": {
      "image/png": "[encoded data removed]",
      "text/plain": [
       "<Figure size 432x288 with 1 Axes>"
      ]
     },
     "metadata": {
      "needs_background": "light"
     },
     "output_type": "display_data"
    }
   ],
   "source": [
    "handle = np.random.randint(env.number_of_agents)\n",
    "print('handle: ', handle)\n",
    "features, supports = graph[handle]\n",
    "plt.imshow(features[:, feat_order['dist_min_to_target']].reshape((2*RAD+1, 2*RAD+1)))"
   ]
  },
  {
   "cell_type": "markdown",
   "metadata": {},
   "source": [
    "### There's a bug within the tree search, there should be a branch extending to the right, has to do with self.break_search???"
   ]
  },
  {
   "cell_type": "code",
   "execution_count": 26,
   "metadata": {},
   "outputs": [
    {
     "data": {
      "text/plain": [
       "<matplotlib.image.AxesImage at 0x2645f985e08>"
      ]
     },
     "execution_count": 26,
     "metadata": {},
     "output_type": "execute_result"
    },
    {
     "data": {
      "image/png": "[encoded data removed]",
      "text/plain": [
       "<Figure size 432x288 with 1 Axes>"
      ]
     },
     "metadata": {
      "needs_background": "light"
     },
     "output_type": "display_data"
    }
   ],
   "source": [
    "plt.imshow(features[:, feat_order['dist_min_to_target']].reshape((2*RAD+1, 2*RAD+1)))"
   ]
  },
  {
   "cell_type": "markdown",
   "metadata": {},
   "source": [
    "### Search path(s) relative directions"
   ]
  },
  {
   "cell_type": "code",
   "execution_count": 27,
   "metadata": {},
   "outputs": [
    {
     "data": {
      "text/plain": [
       "<matplotlib.image.AxesImage at 0x2645af79348>"
      ]
     },
     "execution_count": 27,
     "metadata": {},
     "output_type": "execute_result"
    },
    {
     "data": {
      "image/png": "[encoded data removed]",
      "text/plain": [
       "<Figure size 432x288 with 1 Axes>"
      ]
     },
     "metadata": {
      "needs_background": "light"
     },
     "output_type": "display_data"
    }
   ],
   "source": [
    "plt.imshow(features[:, [15,16,17]].reshape((2*RAD+1, 2*RAD+1, 3)))"
   ]
  },
  {
   "cell_type": "code",
   "execution_count": 28,
   "metadata": {},
   "outputs": [
    {
     "data": {
      "text/plain": [
       "<matplotlib.image.AxesImage at 0x2645afd3d48>"
      ]
     },
     "execution_count": 28,
     "metadata": {},
     "output_type": "execute_result"
    },
    {
     "data": {
      "image/png": "[encoded data removed]",
      "text/plain": [
       "<Figure size 432x288 with 1 Axes>"
      ]
     },
     "metadata": {
      "needs_background": "light"
     },
     "output_type": "display_data"
    }
   ],
   "source": [
    "plt.imshow(features[:, [16,17,18]].reshape((2*RAD+1, 2*RAD+1, 3)))"
   ]
  },
  {
   "cell_type": "markdown",
   "metadata": {},
   "source": [
    "### Feature Matrix"
   ]
  },
  {
   "cell_type": "code",
   "execution_count": 29,
   "metadata": {
    "scrolled": true
   },
   "outputs": [
    {
     "data": {
      "text/plain": [
       "<matplotlib.image.AxesImage at 0x2645b033dc8>"
      ]
     },
     "execution_count": 29,
     "metadata": {},
     "output_type": "execute_result"
    },
    {
     "data": {
      "image/png": "[encoded data removed]",
      "text/plain": [
       "<Figure size 432x288 with 1 Axes>"
      ]
     },
     "metadata": {
      "needs_background": "light"
     },
     "output_type": "display_data"
    }
   ],
   "source": [
    "plt.imshow(features)"
   ]
  },
  {
   "cell_type": "markdown",
   "metadata": {},
   "source": [
    "### Adjacency Matrix"
   ]
  },
  {
   "cell_type": "code",
   "execution_count": 30,
   "metadata": {},
   "outputs": [
    {
     "data": {
      "text/plain": [
       "array([[0., 0., 0., ..., 0., 0., 0.],\n",
       "       [0., 0., 0., ..., 0., 0., 0.],\n",
       "       [0., 0., 0., ..., 0., 0., 0.],\n",
       "       ...,\n",
       "       [0., 0., 0., ..., 0., 0., 0.],\n",
       "       [0., 0., 0., ..., 0., 0., 0.],\n",
       "       [0., 0., 0., ..., 0., 0., 0.]])"
      ]
     },
     "execution_count": 30,
     "metadata": {},
     "output_type": "execute_result"
    }
   ],
   "source": [
    "supports"
   ]
  },
  {
   "cell_type": "code",
   "execution_count": 31,
   "metadata": {},
   "outputs": [
    {
     "data": {
      "text/plain": [
       "<matplotlib.image.AxesImage at 0x2645b090608>"
      ]
     },
     "execution_count": 31,
     "metadata": {},
     "output_type": "execute_result"
    },
    {
     "data": {
      "image/png": "[encoded data removed]",
      "text/plain": [
       "<Figure size 432x288 with 1 Axes>"
      ]
     },
     "metadata": {
      "needs_background": "light"
     },
     "output_type": "display_data"
    }
   ],
   "source": [
    "plt.imshow(supports)"
   ]
  },
  {
   "cell_type": "markdown",
   "metadata": {},
   "source": [
    "### Set Graph Convolutional Network"
   ]
  },
  {
   "cell_type": "code",
   "execution_count": 28,
   "metadata": {},
   "outputs": [
    {
     "name": "stdout",
     "output_type": "stream",
     "text": [
      "input dim: 24\n",
      "output dim: 128\n",
      "num_features_nonzero: 24\n"
     ]
    },
    {
     "data": {
      "text/plain": [
       "GCN(\n",
       "  (layers): Sequential(\n",
       "    (0): GraphConvolution()\n",
       "    (1): GraphConvolution()\n",
       "  )\n",
       ")"
      ]
     },
     "execution_count": 28,
     "metadata": {},
     "output_type": "execute_result"
    }
   ],
   "source": [
    "feat_dim = len(feat_order)\n",
    "net = GCN(feat_dim, args['hidden'], feat_dim)\n",
    "net.to(device)"
   ]
  },
  {
   "cell_type": "code",
   "execution_count": null,
   "metadata": {},
   "outputs": [],
   "source": []
  },
  {
   "cell_type": "code",
   "execution_count": 29,
   "metadata": {},
   "outputs": [
    {
     "data": {
      "text/plain": [
       "(torch.Size([50, 121, 24]), torch.Size([50, 121, 121]))"
      ]
     },
     "execution_count": 29,
     "metadata": {},
     "output_type": "execute_result"
    }
   ],
   "source": [
    "feature_tens.shape, support_tens.shape"
   ]
  },
  {
   "cell_type": "markdown",
   "metadata": {},
   "source": [
    "### Set Attention Layer"
   ]
  },
  {
   "cell_type": "code",
   "execution_count": 30,
   "metadata": {},
   "outputs": [
    {
     "data": {
      "text/plain": [
       "MultiHeadAttention(\n",
       "  in_features=128, head_num=8, bias=True, activation=<function relu at 0x000001F36C268438>\n",
       "  (linear_o): Linear(in_features=128, out_features=128, bias=True)\n",
       ")"
      ]
     },
     "execution_count": 30,
     "metadata": {},
     "output_type": "execute_result"
    }
   ],
   "source": [
    "head_num = 8\n",
    "attention_layer = MultiHeadAttention(args['hidden'], head_num)\n",
    "attention_layer.to(device)"
   ]
  },
  {
   "cell_type": "markdown",
   "metadata": {},
   "source": [
    "### Run 2-hop Graph Convolution over local neighborhood"
   ]
  },
  {
   "cell_type": "code",
   "execution_count": 44,
   "metadata": {},
   "outputs": [
    {
     "name": "stdout",
     "output_type": "stream",
     "text": [
      "0.015956 second runtime\n"
     ]
    }
   ],
   "source": [
    "start = time.time()\n",
    "\n",
    "gcn_outs = net((feature_tens, support_tens))\n",
    "\n",
    "end = time.time()\n",
    "print('{} second runtime'.format(round(end-start, 6)))"
   ]
  },
  {
   "cell_type": "code",
   "execution_count": 56,
   "metadata": {},
   "outputs": [],
   "source": [
    "central_idx = (2*RAD+1)*RAD + RAD\n",
    "def get_central_tens(handle):\n",
    "    cntrl_tens = gcn_outs[0][handle][central_idx]\n",
    "    cntrl_tens = cntrl_tens.reshape((1, 1, args['hidden']))\n",
    "    return cntrl_tens\n",
    "\n",
    "def get_neighbor_tens(handle):\n",
    "    nghbr_handles = env.obs_builder.neighbors[handle]\n",
    "    is_dummy = True\n",
    "    if nghbr_handles:\n",
    "        is_dummy = False\n",
    "        n_nghbrs = len(nghbr_handles)\n",
    "        nghbr_tens = gcn_outs[0][nghbr_handles][list(range(n_nghbrs)), [(2*RAD+1)*RAD + RAD]*n_nghbrs].clone().detach().unsqueeze(0)\n",
    "        return nghbr_tens, is_dummy\n",
    "    else:\n",
    "        dummy_tens = torch.zeros((1, 1, args['hidden'])).float().to(device)\n",
    "        return dummy_tens, is_dummy\n"
   ]
  },
  {
   "cell_type": "markdown",
   "metadata": {},
   "source": [
    "### Pull out Central Node"
   ]
  },
  {
   "cell_type": "code",
   "execution_count": 62,
   "metadata": {},
   "outputs": [
    {
     "data": {
      "text/plain": [
       "tensor([[[1.2274, 0.0000, 0.0000, 0.0000, 1.7336, 1.4263, 0.0000, 2.6894,\n",
       "          2.5562, 0.0000, 0.0000, 0.9684, 0.3831, 0.0000, 2.8499, 2.3040,\n",
       "          0.4766, 1.8371, 1.1321, 0.6917, 0.0000, 0.0000, 0.0000, 0.0000,\n",
       "          0.6848, 1.0157, 1.1985, 0.0000, 2.0613, 0.0000, 0.0000, 1.8653,\n",
       "          0.0000, 0.0000, 2.9686, 0.6544, 1.4946, 0.0000, 0.3114, 0.0000,\n",
       "          1.9276, 1.1475, 0.0000, 0.0000, 1.9709, 1.8327, 0.2897, 1.2341,\n",
       "          2.5827, 0.0000, 0.0000, 1.6043, 0.0000, 0.0000, 2.8682, 1.5857,\n",
       "          0.0000, 1.3112, 0.0000, 0.1039, 0.0000, 0.1337, 0.0000, 0.0000,\n",
       "          1.9187, 0.0000, 4.1502, 0.0000, 0.0000, 2.8054, 0.0000, 0.0000,\n",
       "          0.6546, 2.3590, 0.0000, 0.0000, 0.1570, 0.0000, 1.9027, 0.0000,\n",
       "          0.0000, 0.0000, 0.6139, 0.0000, 5.1009, 0.0000, 1.4376, 0.0000,\n",
       "          0.0000, 0.5813, 2.1270, 1.1713, 0.0000, 0.9748, 0.0000, 0.0000,\n",
       "          0.1893, 0.0000, 0.0000, 0.0000, 2.7003, 0.0000, 0.0000, 0.0000,\n",
       "          1.2417, 0.7222, 0.0000, 0.0000, 0.8511, 0.2789, 3.3842, 0.0000,\n",
       "          0.2547, 0.0921, 0.3246, 0.0000, 1.1340, 1.4199, 0.0000, 0.2616,\n",
       "          0.0000, 0.0000, 0.9669, 0.0000, 0.0000, 2.9415, 0.0000, 0.0000]]],\n",
       "       device='cuda:0', grad_fn=<AsStridedBackward>)"
      ]
     },
     "execution_count": 62,
     "metadata": {},
     "output_type": "execute_result"
    }
   ],
   "source": [
    "handle = 42\n",
    "central_tens = get_central_tens(handle)\n",
    "central_tens"
   ]
  },
  {
   "cell_type": "markdown",
   "metadata": {},
   "source": [
    "### Pull out neighbor central nodes, else construct dummy tensor"
   ]
  },
  {
   "cell_type": "code",
   "execution_count": 63,
   "metadata": {},
   "outputs": [
    {
     "data": {
      "text/plain": [
       "tensor([[[0.5180, 0.0000, 0.0000, 0.9068, 0.0000, 2.1227, 0.0000, 0.0000,\n",
       "          0.4187, 1.5420, 0.0000, 2.5310, 3.2242, 0.0000, 0.1939, 0.0000,\n",
       "          0.0000, 1.5016, 0.0000, 0.3506, 0.0000, 0.0000, 0.0000, 1.3429,\n",
       "          0.6693, 0.1063, 0.0000, 0.0000, 3.4956, 1.8917, 0.4758, 1.4761,\n",
       "          0.0000, 0.0175, 1.8478, 2.8518, 0.0000, 0.0000, 0.0000, 0.6162,\n",
       "          1.3143, 0.7327, 0.0000, 1.7900, 0.0000, 0.9652, 0.0000, 1.0280,\n",
       "          0.4823, 1.2585, 0.0000, 1.6151, 1.1426, 0.0000, 2.5242, 1.5624,\n",
       "          0.0000, 0.7412, 0.3737, 0.0000, 0.0000, 0.6512, 0.9581, 0.0000,\n",
       "          1.4655, 0.1683, 0.6338, 0.0000, 0.8096, 2.0235, 0.4266, 1.2519,\n",
       "          0.0000, 0.9905, 0.0000, 0.0902, 0.0000, 0.0000, 1.7230, 0.0000,\n",
       "          0.0000, 0.0000, 1.6148, 0.0000, 2.4157, 0.0000, 0.0000, 0.0000,\n",
       "          0.0000, 2.1198, 0.9423, 0.4908, 1.0197, 0.0000, 0.0000, 0.8179,\n",
       "          0.0000, 0.0000, 0.1152, 0.0000, 0.0000, 0.3302, 0.0000, 0.7616,\n",
       "          1.1997, 0.0000, 1.2417, 0.0252, 0.0000, 0.9203, 0.6054, 0.0000,\n",
       "          0.0000, 0.6838, 0.4679, 0.0000, 0.0000, 0.0000, 0.0000, 2.0133,\n",
       "          1.9654, 0.0000, 1.6177, 0.0000, 0.0000, 1.1134, 0.0000, 0.0000]]],\n",
       "       device='cuda:0')"
      ]
     },
     "execution_count": 63,
     "metadata": {},
     "output_type": "execute_result"
    }
   ],
   "source": [
    "neighbor_tens, is_dummy_ = get_neighbor_tens(handle)\n",
    "neighbor_tens"
   ]
  },
  {
   "cell_type": "code",
   "execution_count": 64,
   "metadata": {},
   "outputs": [
    {
     "name": "stdout",
     "output_type": "stream",
     "text": [
      "0.002962 second runtime\n"
     ]
    },
    {
     "data": {
      "text/plain": [
       "(tensor([[[1.2274, 0.0000, 0.0000, 0.0000, 1.7336, 1.4263, 0.0000, 2.6894,\n",
       "           2.5562, 0.0000, 0.0000, 0.9684, 0.3831, 0.0000, 2.8499, 2.3040,\n",
       "           0.4766, 1.8371, 1.1321, 0.6917, 0.0000, 0.0000, 0.0000, 0.0000,\n",
       "           0.6848, 1.0157, 1.1985, 0.0000, 2.0613, 0.0000, 0.0000, 1.8653,\n",
       "           0.0000, 0.0000, 2.9686, 0.6544, 1.4946, 0.0000, 0.3114, 0.0000,\n",
       "           1.9276, 1.1475, 0.0000, 0.0000, 1.9709, 1.8327, 0.2897, 1.2341,\n",
       "           2.5827, 0.0000, 0.0000, 1.6043, 0.0000, 0.0000, 2.8682, 1.5857,\n",
       "           0.0000, 1.3112, 0.0000, 0.1039, 0.0000, 0.1337, 0.0000, 0.0000,\n",
       "           1.9187, 0.0000, 4.1502, 0.0000, 0.0000, 2.8054, 0.0000, 0.0000,\n",
       "           0.6546, 2.3590, 0.0000, 0.0000, 0.1570, 0.0000, 1.9027, 0.0000,\n",
       "           0.0000, 0.0000, 0.6139, 0.0000, 5.1009, 0.0000, 1.4376, 0.0000,\n",
       "           0.0000, 0.5813, 2.1270, 1.1713, 0.0000, 0.9748, 0.0000, 0.0000,\n",
       "           0.1893, 0.0000, 0.0000, 0.0000, 2.7003, 0.0000, 0.0000, 0.0000,\n",
       "           1.2417, 0.7222, 0.0000, 0.0000, 0.8511, 0.2789, 3.3842, 0.0000,\n",
       "           0.2547, 0.0921, 0.3246, 0.0000, 1.1340, 1.4199, 0.0000, 0.2616,\n",
       "           0.0000, 0.0000, 0.9669, 0.0000, 0.0000, 2.9415, 0.0000, 0.0000,\n",
       "           0.5180, 0.0000, 0.0000, 0.9068, 0.0000, 2.1227, 0.0000, 0.0000,\n",
       "           0.4187, 1.5420, 0.0000, 2.5310, 3.2242, 0.0000, 0.1939, 0.0000,\n",
       "           0.0000, 1.5016, 0.0000, 0.3506, 0.0000, 0.0000, 0.0000, 1.3429,\n",
       "           0.6693, 0.1063, 0.0000, 0.0000, 3.4956, 1.8917, 0.4758, 1.4761,\n",
       "           0.0000, 0.0175, 1.8478, 2.8518, 0.0000, 0.0000, 0.0000, 0.6162,\n",
       "           1.3143, 0.7327, 0.0000, 1.7900, 0.0000, 0.9652, 0.0000, 1.0280,\n",
       "           0.4823, 1.2585, 0.0000, 1.6151, 1.1426, 0.0000, 2.5242, 1.5624,\n",
       "           0.0000, 0.7412, 0.3737, 0.0000, 0.0000, 0.6512, 0.9581, 0.0000,\n",
       "           1.4655, 0.1683, 0.6338, 0.0000, 0.8096, 2.0235, 0.4266, 1.2519,\n",
       "           0.0000, 0.9905, 0.0000, 0.0902, 0.0000, 0.0000, 1.7230, 0.0000,\n",
       "           0.0000, 0.0000, 1.6148, 0.0000, 2.4157, 0.0000, 0.0000, 0.0000,\n",
       "           0.0000, 2.1198, 0.9423, 0.4908, 1.0197, 0.0000, 0.0000, 0.8179,\n",
       "           0.0000, 0.0000, 0.1152, 0.0000, 0.0000, 0.3302, 0.0000, 0.7616,\n",
       "           1.1997, 0.0000, 1.2417, 0.0252, 0.0000, 0.9203, 0.6054, 0.0000,\n",
       "           0.0000, 0.6838, 0.4679, 0.0000, 0.0000, 0.0000, 0.0000, 2.0133,\n",
       "           1.9654, 0.0000, 1.6177, 0.0000, 0.0000, 1.1134, 0.0000, 0.0000]]],\n",
       "        device='cuda:0', grad_fn=<CatBackward>), torch.Size([1, 1, 256]))"
      ]
     },
     "execution_count": 64,
     "metadata": {},
     "output_type": "execute_result"
    }
   ],
   "source": [
    "start = time.time()\n",
    "\n",
    "if not is_dummy_:\n",
    "    central_node_att = attention_layer(central_tens, neighbor_tens, neighbor_tens)\n",
    "    central_node_conc = torch.cat((central_tens, central_node_att), -1)\n",
    "\n",
    "else:\n",
    "    central_node_conc = torch.cat((central_tens, central_node_att), -1)\n",
    "    \n",
    "end = time.time()\n",
    "print('{} second runtime'.format(round(end-start, 6)))\n",
    "\n",
    "central_node_conc = torch.cat((central_tens, neighbor_tens), -1)\n",
    "central_node_conc, central_node_conc_out.shape"
   ]
  },
  {
   "cell_type": "code",
   "execution_count": 65,
   "metadata": {},
   "outputs": [
    {
     "data": {
      "text/plain": [
       "<matplotlib.image.AxesImage at 0x1f304ed25c8>"
      ]
     },
     "execution_count": 65,
     "metadata": {},
     "output_type": "execute_result"
    },
    {
     "data": {
      "image/png": "[encoded data removed]",
      "text/plain": [
       "<Figure size 432x288 with 1 Axes>"
      ]
     },
     "metadata": {
      "needs_background": "light"
     },
     "output_type": "display_data"
    }
   ],
   "source": [
    "plt.imshow(gcn_outs[0][handle].cpu().detach().numpy())"
   ]
  },
  {
   "cell_type": "code",
   "execution_count": 66,
   "metadata": {},
   "outputs": [
    {
     "data": {
      "text/plain": [
       "(array([ 5, 16, 17, 27, 28, 38, 49, 60], dtype=int64),)"
      ]
     },
     "execution_count": 66,
     "metadata": {},
     "output_type": "execute_result"
    }
   ],
   "source": [
    "gcn_outs[0][handle].cpu().detach().numpy().sum(1).nonzero()"
   ]
  },
  {
   "cell_type": "code",
   "execution_count": 34,
   "metadata": {},
   "outputs": [
    {
     "data": {
      "text/plain": [
       "array([ 0,  1,  2,  3,  4,  5,  6,  7,  8,  8,  6,  9, 10, 11, 11,  8,  6,\n",
       "       12, 13, 14, 15, 16, 17, 15,  3, 18, 16, 11, 19, 13,  8, 20, 21,  7,\n",
       "       22, 23, 16,  4, 24, 11, 16, 11, 25, 10, 19, 11, 12, 26, 27, 24])"
      ]
     },
     "execution_count": 34,
     "metadata": {},
     "output_type": "execute_result"
    }
   ],
   "source": [
    "from scipy.sparse.csgraph import connected_components\n",
    "simulation_num = 0\n",
    "timestep = 0\n",
    "\n",
    "cnnx_mat = np.zeros((env.number_of_agents, env.number_of_agents))\n",
    "for handle, nghbr_handles in env.obs_builder.neighbors.items():\n",
    "    cnnx_mat[handle, handle] = 1\n",
    "    if nghbr_handles:\n",
    "        for nghbr_handle in nghbr_handles:\n",
    "            cnnx_mat[handle, nghbr_handle] = 1\n",
    "            cnnx_mat[nghbr_handle, handle] = 1\n",
    "cnnx_mat = csr_matrix(cnnx_mat)\n",
    "_, labels = connected_components(csgraph=cnnx_mat, directed=False, return_labels=True)\n",
    "labels\n",
    "        "
   ]
  },
  {
   "cell_type": "code",
   "execution_count": 39,
   "metadata": {},
   "outputs": [
    {
     "data": {
      "text/plain": [
       "(torch.Size([50, 121, 24]), torch.Size([50, 121, 121]))"
      ]
     },
     "execution_count": 39,
     "metadata": {},
     "output_type": "execute_result"
    }
   ],
   "source": [
    "feature_tens.shape, support_tens.shape"
   ]
  }
 ],
 "metadata": {
  "kernelspec": {
   "display_name": "Python 3",
   "language": "python",
   "name": "python3"
  },
  "language_info": {
   "codemirror_mode": {
    "name": "ipython",
    "version": 3
   },
   "file_extension": ".py",
   "mimetype": "text/x-python",
   "name": "python",
   "nbconvert_exporter": "python",
   "pygments_lexer": "ipython3",
   "version": "3.7.4"
  }
 },
 "nbformat": 4,
 "nbformat_minor": 2
}
