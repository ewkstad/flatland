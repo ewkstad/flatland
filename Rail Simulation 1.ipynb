{
 "cells": [
  {
   "cell_type": "code",
   "execution_count": 1,
   "metadata": {},
   "outputs": [],
   "source": [
    "import time\n",
    "import numpy as np\n",
    "from copy import copy\n",
    "# from flatland.envs.observations import TreeObsForRailEnv\n",
    "from observations import TreeObsForRailEnvAug\n",
    "# First of all we import the Flatland rail environment\n",
    "from rail_env import RailEnv\n",
    "# from flatland.envs.rail_env import RailEnv\n",
    "from flatland.envs.rail_generators import sparse_rail_generator\n",
    "from flatland.envs.schedule_generators import sparse_schedule_generator\n",
    "# We also include a renderer because we want to visualize what is going on in the environment\n",
    "from flatland.utils.rendertools import RenderTool, AgentRenderVariant\n",
    "from flatland.envs.malfunction_generators import malfunction_from_params\n"
   ]
  },
  {
   "cell_type": "code",
   "execution_count": 2,
   "metadata": {},
   "outputs": [],
   "source": [
    "width = 100  # With of map\n",
    "height = 100  # Height of map\n",
    "nr_trains = 50  # Number of trains that have an assigned task in the env\n",
    "cities_in_map = 20  # Number of cities where agents can start or end\n",
    "seed = 14  # Random seed\n",
    "NUMBER_OF_AGENTS = 10\n",
    "grid_distribution_of_cities = False  # Type of city distribution, if False cities are randomly placed\n",
    "max_rails_between_cities = 2  # Max number of tracks allowed between cities. This is number of entry point to a city\n",
    "max_rail_in_cities = 6  # Max number of parallel tracks within a city, representing a realistic trainstation\n"
   ]
  },
  {
   "cell_type": "code",
   "execution_count": 3,
   "metadata": {},
   "outputs": [],
   "source": [
    "rail_generator = sparse_rail_generator(max_num_cities=cities_in_map,\n",
    "                                       seed=seed,\n",
    "                                       grid_mode=grid_distribution_of_cities,\n",
    "                                       max_rails_between_cities=max_rails_between_cities,\n",
    "                                       max_rails_in_city=max_rail_in_cities,\n",
    "                                       )"
   ]
  },
  {
   "cell_type": "code",
   "execution_count": 4,
   "metadata": {},
   "outputs": [],
   "source": [
    "# The schedule generator can make very basic schedules with a start point, end point and a speed profile for each agent.\n",
    "# The speed profiles can be adjusted directly as well as shown later on. We start by introducing a statistical\n",
    "# distribution of speed profiles\n",
    "\n",
    "# Different agent types (trains) with different speeds.\n",
    "speed_ration_map = {1.: 0.25,  # Fast passenger train\n",
    "                    1. / 2.: 0.25,  # Fast freight train\n",
    "                    1. / 3.: 0.25,  # Slow commuter train\n",
    "                    1. / 4.: 0.25}  # Slow freight train"
   ]
  },
  {
   "cell_type": "code",
   "execution_count": 5,
   "metadata": {},
   "outputs": [],
   "source": [
    "# We can now initiate the schedule generator with the given speed profiles\n",
    "\n",
    "schedule_generator = sparse_schedule_generator(speed_ration_map)"
   ]
  },
  {
   "cell_type": "code",
   "execution_count": 6,
   "metadata": {},
   "outputs": [],
   "source": [
    "# We can furthermore pass stochastic data to the RailEnv constructor which will allow for stochastic malfunctions\n",
    "# during an episode.\n",
    "\n",
    "stochastic_data = {'prop_malfunction': 0.3,  # Percentage of defective agents\n",
    "                   'malfunction_rate': 30,  # Rate of malfunction occurence\n",
    "                   'min_duration': 3,  # Minimal duration of malfunction\n",
    "                   'max_duration': 20  # Max duration of malfunction\n",
    "                   }"
   ]
  },
  {
   "cell_type": "code",
   "execution_count": 7,
   "metadata": {},
   "outputs": [],
   "source": [
    "# Tree predictor\n",
    "max_depth = 3\n",
    "observation_builder = TreeObsForRailEnvAug(max_depth=max_depth)"
   ]
  },
  {
   "cell_type": "code",
   "execution_count": 8,
   "metadata": {},
   "outputs": [],
   "source": [
    "# Custom observation builder with predictor, uncomment line below if you want to try this one\n",
    "# observation_builder = TreeObsForRailEnv(max_depth=2, predictor=ShortestPathPredictorForRailEnv())\n",
    "\n",
    "# Construct the enviornment with the given observation, generataors, predictors, and stochastic data\n",
    "env = RailEnv(width=width,\n",
    "                 height=height,\n",
    "                 rail_generator=rail_generator,\n",
    "                 schedule_generator=schedule_generator,\n",
    "                 number_of_agents=nr_trains,\n",
    "                 malfunction_generator_and_process_data=malfunction_from_params(stochastic_data),\n",
    "                 obs_builder_object=observation_builder,\n",
    "                 remove_agents_at_target=True  # Removes agents at the end of their journey to make space for others\n",
    "                )\n"
   ]
  },
  {
   "cell_type": "code",
   "execution_count": 9,
   "metadata": {},
   "outputs": [],
   "source": [
    "def my_controller():\n",
    "    \"\"\"\n",
    "    You are supposed to write this controller\n",
    "    \"\"\"\n",
    "    _action = {}\n",
    "    for _idx in range(NUMBER_OF_AGENTS):\n",
    "        _action[_idx] = np.random.randint(0, 5)\n",
    "    return _action"
   ]
  },
  {
   "cell_type": "code",
   "execution_count": 10,
   "metadata": {},
   "outputs": [],
   "source": [
    "_, _ = env.reset()"
   ]
  },
  {
   "cell_type": "code",
   "execution_count": 11,
   "metadata": {},
   "outputs": [],
   "source": [
    "# # Initiate the renderer\n",
    "# env_renderer = RenderTool(env, gl=\"PILSVG\",\n",
    "#                           agent_render_variant=AgentRenderVariant.AGENT_SHOWS_OPTIONS_AND_BOX,\n",
    "#                           show_debug=False,\n",
    "#                           screen_height=1080,  # Adjust these parameters to fit your resolution\n",
    "#                           screen_width=1920)  # Adjust these parameters to fit your resolution\n",
    "\n",
    "# for step in range(100):\n",
    "\n",
    "#     _action = my_controller()\n",
    "#     obs, all_rewards, done, info = env.step(_action)\n",
    "#     #print(\"Rewards: {}, [done={}]\".format( all_rewards, done))\n",
    "#     env_renderer.render_env(show=True, frames=False, show_observations=False)\n",
    "#     time.sleep(0.3)"
   ]
  },
  {
   "cell_type": "code",
   "execution_count": 12,
   "metadata": {},
   "outputs": [],
   "source": [
    "_action = my_controller()\n",
    "obs, all_rewards, done, info = env.step(_action)"
   ]
  },
  {
   "cell_type": "code",
   "execution_count": 13,
   "metadata": {},
   "outputs": [],
   "source": [
    "import matplotlib.pyplot as plt\n",
    "%matplotlib inline"
   ]
  },
  {
   "cell_type": "code",
   "execution_count": 14,
   "metadata": {},
   "outputs": [
    {
     "data": {
      "text/plain": [
       "<matplotlib.image.AxesImage at 0x28cc5d9c388>"
      ]
     },
     "execution_count": 14,
     "metadata": {},
     "output_type": "execute_result"
    },
    {
     "data": {
      "image/png": "[encoded data removed]",
      "text/plain": [
       "<Figure size 432x288 with 1 Axes>"
      ]
     },
     "metadata": {
      "needs_background": "light"
     },
     "output_type": "display_data"
    }
   ],
   "source": [
    "plt.imshow(env.rail.grid)"
   ]
  },
  {
   "cell_type": "code",
   "execution_count": 15,
   "metadata": {},
   "outputs": [],
   "source": [
    "# (x - 1)*w + y Northern neighbor\n",
    "# x * w + y + 1 Eastern neighbor\n",
    "# (x + 1)*w + y Southern neighbor\n",
    "# x * w + y - 1 Western neighbor\n",
    "\n",
    "def get_neighbors(ft, x, y, w):\n",
    "    neighbors = set()\n",
    "    if ft[0] == '1':\n",
    "        neighbors |= {(x - 1)*w + y}\n",
    "    if ft[1] == '1':\n",
    "        neighbors |= {x * w + y + 1}\n",
    "    if ft[2] == '1':\n",
    "        neighbors |= {(x + 1)*w + y}\n",
    "    if ft[3] == '1':\n",
    "        neighbors |= {x * w + y - 1}\n",
    "    if ft[4] == '1':\n",
    "        neighbors |= {(x - 1)*w + y}\n",
    "    if ft[5] == '1':\n",
    "        neighbors |= {x * w + y + 1}\n",
    "    if ft[6] == '1':\n",
    "        neighbors |= {(x + 1)*w + y}\n",
    "    if ft[7] == '1':\n",
    "        neighbors |= {x * w + y - 1}\n",
    "    if ft[8] == '1':\n",
    "        neighbors |= {(x - 1)*w + y}\n",
    "    if ft[9] == '1':\n",
    "        neighbors |= {x * w + y + 1}\n",
    "    if ft[10] == '1':\n",
    "        neighbors |= {(x + 1)*w + y}\n",
    "    if ft[11] == '1':\n",
    "        neighbors |= {x * w + y - 1}\n",
    "    if ft[12] == '1':\n",
    "        neighbors |= {(x - 1)*w + y}\n",
    "    if ft[13] == '1':\n",
    "        neighbors |= {x * w + y + 1}\n",
    "    if ft[14] == '1':\n",
    "        neighbors |= {(x + 1)*w + y}\n",
    "    if ft[15] == '1':\n",
    "        neighbors |= {x * w + y - 1}\n",
    "    return neighbors\n",
    "    "
   ]
  },
  {
   "cell_type": "code",
   "execution_count": 15,
   "metadata": {},
   "outputs": [
    {
     "data": {
      "text/plain": [
       "[0, 32800, 1025, 2064, 72, 4608, 16386]"
      ]
     },
     "execution_count": 15,
     "metadata": {},
     "output_type": "execute_result"
    }
   ],
   "source": [
    "uninteresting_transitions_bin = ['0000000000000000',\n",
    "                                 '1000000000100000',\n",
    "                                 '0000010000000001',\n",
    "                                 '0000100000010000',\n",
    "                                 '0000000001001000',\n",
    "                                 '0001001000000000',\n",
    "                                 '0100000000000010'\n",
    "                                ]\n",
    "uninteresting_transitions_int = [int(t, 2) for t in uninteresting_transitions_bin]\n",
    "uninteresting_transitions_int"
   ]
  },
  {
   "cell_type": "code",
   "execution_count": 16,
   "metadata": {},
   "outputs": [
    {
     "name": "stderr",
     "output_type": "stream",
     "text": [
      "C:\\Users\\evbruh\\Anaconda3\\lib\\site-packages\\scipy\\sparse\\_index.py:84: SparseEfficiencyWarning: Changing the sparsity structure of a csr_matrix is expensive. lil_matrix is more efficient.\n",
      "  self._set_intXint(row, col, x.flat[0])\n"
     ]
    }
   ],
   "source": [
    "from scipy.sparse import csr_matrix\n",
    "\n",
    "# connection matrix\n",
    "cnnx_mat = csr_matrix((env.width*env.height, env.width*env.height), dtype=np.int8)\n",
    "\n",
    "# transition vector\n",
    "trans_vec = np.zeros(env.width*env.height, dtype=np.int32)\n",
    "\n",
    "for x in range(env.height):\n",
    "    for y in range(env.width):\n",
    "        i = x*env.width + y\n",
    "        \n",
    "        # 16-bit integer transition\n",
    "        int_t = env.rail.get_full_transitions(x,y)\n",
    "        \n",
    "        # binary transition\n",
    "        bin_t = '{0:016b}'.format(int_t)\n",
    "        \n",
    "        # connections\n",
    "        nghbrs = get_neighbors(bin_t, x, y, env.width)\n",
    "        for n in nghbrs:\n",
    "            cnnx_mat[i, n] = 1\n",
    "            \n",
    "        trans_vec[i] = int_t\n"
   ]
  },
  {
   "cell_type": "markdown",
   "metadata": {},
   "source": [
    "### Switches mask"
   ]
  },
  {
   "cell_type": "code",
   "execution_count": 17,
   "metadata": {},
   "outputs": [
    {
     "data": {
      "text/plain": [
       "array([0, 0, 0, ..., 0, 0, 0], dtype=int32)"
      ]
     },
     "execution_count": 17,
     "metadata": {},
     "output_type": "execute_result"
    }
   ],
   "source": [
    "switches_mask = (np.in1d(trans_vec, uninteresting_transitions_int) + 1)%2\n",
    "switches_mask"
   ]
  },
  {
   "cell_type": "markdown",
   "metadata": {},
   "source": [
    "### Unidirectional mask"
   ]
  },
  {
   "cell_type": "code",
   "execution_count": 18,
   "metadata": {},
   "outputs": [
    {
     "data": {
      "text/plain": [
       "array([0, 0, 0, ..., 0, 0, 0])"
      ]
     },
     "execution_count": 18,
     "metadata": {},
     "output_type": "execute_result"
    }
   ],
   "source": [
    "unidir_mask = np.in1d(trans_vec, uninteresting_transitions_int[1:])+0\n",
    "unidir_mask"
   ]
  },
  {
   "cell_type": "markdown",
   "metadata": {},
   "source": [
    "### Distance matrix"
   ]
  },
  {
   "cell_type": "code",
   "execution_count": 19,
   "metadata": {},
   "outputs": [
    {
     "data": {
      "text/plain": [
       "array([[inf, inf, inf, ..., inf, inf, inf],\n",
       "       [inf, inf, inf, ..., inf, inf, inf],\n",
       "       [inf, inf, inf, ..., inf, inf, inf],\n",
       "       ...,\n",
       "       [inf, inf, inf, ..., inf, inf, inf],\n",
       "       [inf, inf, inf, ..., inf, inf, inf],\n",
       "       [inf, inf, inf, ..., inf, inf, inf]])"
      ]
     },
     "execution_count": 19,
     "metadata": {},
     "output_type": "execute_result"
    }
   ],
   "source": [
    "from scipy.sparse.csgraph import shortest_path\n",
    "dist_mat = shortest_path(cnnx_mat, directed = True)\n",
    "dist_mat[dist_mat == np.inf] = -np.inf\n",
    "null_cells = np.where(np.amax(dist_mat, axis=1) == 0)[0]\n",
    "dist_mat[null_cells, null_cells] = -np.inf\n",
    "dist_mat[dist_mat == -np.inf] = np.inf\n",
    "dist_mat"
   ]
  },
  {
   "cell_type": "markdown",
   "metadata": {},
   "source": [
    "### Agent positions and directions vectors"
   ]
  },
  {
   "cell_type": "code",
   "execution_count": 20,
   "metadata": {},
   "outputs": [],
   "source": [
    "agents_pos = np.zeros(env.width*env.height) \n",
    "for _idx in range(NUMBER_OF_AGENTS):\n",
    "    p = env.agents[_idx].position\n",
    "    if p is not None:\n",
    "        py, px = p\n",
    "    else:\n",
    "        py, px = env.agents[_idx].initial_position\n",
    "    i = py*env.width + px\n",
    "    agents_pos[i] += 1"
   ]
  },
  {
   "cell_type": "code",
   "execution_count": 16,
   "metadata": {},
   "outputs": [],
   "source": [
    "# Observation radius\n",
    "RAD = 5"
   ]
  },
  {
   "cell_type": "code",
   "execution_count": 22,
   "metadata": {},
   "outputs": [
    {
     "data": {
      "text/plain": [
       "(9, 10000)"
      ]
     },
     "execution_count": 22,
     "metadata": {},
     "output_type": "execute_result"
    }
   ],
   "source": [
    "agents_dists = dist_mat[agents_pos.nonzero()[0], :]\n",
    "agents_dists.shape"
   ]
  },
  {
   "cell_type": "code",
   "execution_count": 23,
   "metadata": {},
   "outputs": [
    {
     "data": {
      "text/plain": [
       "array([[0., 0., 0., ..., 0., 0., 0.],\n",
       "       [0., 0., 0., ..., 0., 0., 0.],\n",
       "       [0., 0., 0., ..., 0., 0., 0.],\n",
       "       ...,\n",
       "       [0., 0., 0., ..., 0., 0., 0.],\n",
       "       [0., 0., 0., ..., 0., 0., 0.],\n",
       "       [0., 0., 0., ..., 0., 0., 0.]])"
      ]
     },
     "execution_count": 23,
     "metadata": {},
     "output_type": "execute_result"
    }
   ],
   "source": [
    "row_mask = ((switches_mask + agents_pos)>0).astype('float64')\n",
    "row_mask[row_mask == 0] = np.inf\n",
    "\n",
    "events_mask = ((agents_dists*row_mask)<RAD+1).astype('float64')\n",
    "events_mask"
   ]
  },
  {
   "cell_type": "markdown",
   "metadata": {},
   "source": [
    "To classify switch types (left, straight, right) from an agent's perpesective, depending on agent's orientation (North, East, South, West) all switch information is embedded in 16-bit binary string. If agent is facing North, the only relevant information is in the first 4 bits. Need to permute trailing 12 bits, classify the left, straight, and right turns, then encode to 16-bit integers."
   ]
  },
  {
   "cell_type": "code",
   "execution_count": 24,
   "metadata": {},
   "outputs": [
    {
     "name": "stdout",
     "output_type": "stream",
     "text": [
      "deque(['0', '0', '0', '1']) 0001\n",
      "deque(['1', '0', '0', '0']) 1000\n"
     ]
    }
   ],
   "source": [
    "from collections import deque\n",
    "d = deque('0001')\n",
    "print(d, ''.join(list(d)))\n",
    "d.rotate(1)\n",
    "print(d, ''.join(list(d)))"
   ]
  },
  {
   "cell_type": "code",
   "execution_count": 27,
   "metadata": {},
   "outputs": [
    {
     "data": {
      "text/plain": [
       "{0: {'F': ['1000', '1001', '1010', '1011', '1100', '1101', '1110', '1111'],\n",
       "  'R': ['0100', '0101', '0110', '0111', '1100', '1101', '1110', '1111'],\n",
       "  'B': ['0010', '0011', '0110', '0111', '1010', '1011', '1110', '1111'],\n",
       "  'L': ['0001', '0011', '0101', '0111', '1001', '1011', '1101', '1111']},\n",
       " 1: {'F': ['0100', '0101', '0110', '0111', '1100', '1101', '1110', '1111'],\n",
       "  'R': ['0010', '0011', '0110', '0111', '1010', '1011', '1110', '1111'],\n",
       "  'B': ['0001', '0011', '0101', '0111', '1001', '1011', '1101', '1111'],\n",
       "  'L': ['1000', '1001', '1010', '1011', '1100', '1101', '1110', '1111']},\n",
       " 2: {'F': ['0010', '0011', '0110', '0111', '1010', '1011', '1110', '1111'],\n",
       "  'R': ['0001', '0011', '0101', '0111', '1001', '1011', '1101', '1111'],\n",
       "  'B': ['1000', '1001', '1010', '1011', '1100', '1101', '1110', '1111'],\n",
       "  'L': ['0100', '0101', '0110', '0111', '1100', '1101', '1110', '1111']},\n",
       " 3: {'F': ['0001', '0011', '0101', '0111', '1001', '1011', '1101', '1111'],\n",
       "  'R': ['1000', '1001', '1010', '1011', '1100', '1101', '1110', '1111'],\n",
       "  'B': ['0100', '0101', '0110', '0111', '1100', '1101', '1110', '1111'],\n",
       "  'L': ['0010', '0011', '0110', '0111', '1010', '1011', '1110', '1111']}}"
      ]
     },
     "execution_count": 27,
     "metadata": {},
     "output_type": "execute_result"
    }
   ],
   "source": [
    "from itertools import product\n",
    "switch_types = dict()\n",
    "orientations = [0, 1, 2, 3] # North, East, South, West respectively.\n",
    "_dirs = ['F', 'R', 'B', 'L']\n",
    "b_perms_4 = [''.join(str(b) for b in p) for p in list(product([0,1],repeat=4))]\n",
    "# Not efficient, but small and only needs to be constructed once.\n",
    "for o in orientations:\n",
    "    switch_types[o] = dict()\n",
    "    for sc in _dirs:\n",
    "        switch_types[o][sc] = []\n",
    "for p in b_perms_4:\n",
    "    for i, b in enumerate(p):\n",
    "        if b == '1':\n",
    "            scs = deque(_dirs)\n",
    "            scs.rotate(-i)\n",
    "            for j in np.arange(i, i + 4)%4:\n",
    "                o = orientations[j]\n",
    "                sc = scs[-j]\n",
    "                switch_types[o][sc].append(p)\n",
    "switch_types"
   ]
  },
  {
   "cell_type": "code",
   "execution_count": 28,
   "metadata": {},
   "outputs": [],
   "source": [
    "b_perms_12 = [''.join(str(b) for b in p) for p in list(product([0,1],repeat=12))]\n",
    "\n",
    "for i, o in enumerate(orientations):\n",
    "    \n",
    "    for sc in _dirs:\n",
    "    \n",
    "        a = switch_types[o][sc]\n",
    "\n",
    "        cp = [''.join(el) for el in list(product(a, b_perms_12))]\n",
    "        \n",
    "        for j, el in enumerate(cp):\n",
    "            \n",
    "            bin_t = deque(el)\n",
    "            \n",
    "            bin_t.rotate(i*4)\n",
    "            \n",
    "            bin_t_r = ''.join(bin_t)\n",
    "            \n",
    "            int_t = int(bin_t_r, 2)\n",
    "            \n",
    "            cp[j] = int_t\n",
    "            \n",
    "        switch_types[o][sc] = cp\n",
    "            \n",
    "            "
   ]
  },
  {
   "cell_type": "code",
   "execution_count": 29,
   "metadata": {},
   "outputs": [
    {
     "data": {
      "text/plain": [
       "((84, 51), 1)"
      ]
     },
     "execution_count": 29,
     "metadata": {},
     "output_type": "execute_result"
    }
   ],
   "source": [
    "agent_num = np.random.choice(np.arange(NUMBER_OF_AGENTS))\n",
    "agent_num, env.agents[agent_num], env.agents[agent_num].initial_direction\n",
    "py, px = env.agents[agent_num].initial_position\n",
    "dir_ = env.agents[agent_num].initial_direction\n",
    "i = py*env.width + px\n",
    "p_dist_mask = (dist_mat[i]<(10+1))\n",
    "env_shape = (env.height, env.width)\n",
    "(py, px), dir_\n",
    "# switch_types[dir_]['straight']"
   ]
  },
  {
   "cell_type": "code",
   "execution_count": 30,
   "metadata": {},
   "outputs": [],
   "source": [
    "track_feats = np.zeros((2*RAD+1, 2*RAD+1, 6))"
   ]
  },
  {
   "cell_type": "markdown",
   "metadata": {},
   "source": [
    "### Parallel switches from Agent's perspective"
   ]
  },
  {
   "cell_type": "code",
   "execution_count": 31,
   "metadata": {},
   "outputs": [],
   "source": [
    "inds = (switches_mask*p_dist_mask*np.in1d(trans_vec, switch_types[dir_]['F'])).nonzero()[0]\n",
    "ys, xs = np.unravel_index(inds, env_shape)\n",
    "for y, x in zip(ys-py+RAD+1, xs-px+RAD+1):\n",
    "    if y < 2*RAD+1 and x < 2*RAD+1:\n",
    "        track_feats[y, x, 0] = 1"
   ]
  },
  {
   "cell_type": "markdown",
   "metadata": {},
   "source": [
    "### Parallel non-switches from Agent's perspective"
   ]
  },
  {
   "cell_type": "code",
   "execution_count": 32,
   "metadata": {},
   "outputs": [],
   "source": [
    "inds = (unidir_mask*p_dist_mask*np.in1d(trans_vec, switch_types[dir_]['F'])).nonzero()[0]\n",
    "ys, xs = np.unravel_index(inds, env_shape)\n",
    "for y, x in zip(ys-py+RAD+1, xs-px+RAD+1):\n",
    "    if y < 2*RAD+1 and x < 2*RAD+1:\n",
    "        track_feats[y, x, 3] = 1"
   ]
  },
  {
   "cell_type": "markdown",
   "metadata": {},
   "source": [
    "### Right Switches from Agent's perspective"
   ]
  },
  {
   "cell_type": "code",
   "execution_count": 33,
   "metadata": {},
   "outputs": [],
   "source": [
    "inds = (switches_mask*p_dist_mask*np.in1d(trans_vec, switch_types[dir_]['R'])).nonzero()[0]\n",
    "ys, xs = np.unravel_index(inds, env_shape)\n",
    "for y, x in zip(ys-py+RAD+1, xs-px+RAD+1):\n",
    "    if y < 2*RAD+1 and x < 2*RAD+1:\n",
    "        track_feats[y, x, 1] = 1"
   ]
  },
  {
   "cell_type": "markdown",
   "metadata": {},
   "source": [
    "### Right non-switches from Agent's perspective"
   ]
  },
  {
   "cell_type": "code",
   "execution_count": 34,
   "metadata": {},
   "outputs": [],
   "source": [
    "inds = (unidir_mask*p_dist_mask*np.in1d(trans_vec, switch_types[dir_]['R'])).nonzero()[0]\n",
    "ys, xs = np.unravel_index(inds, env_shape)\n",
    "for y, x in zip(ys-py+RAD+1, xs-px+RAD+1):\n",
    "    if y < 2*RAD+1 and x < 2*RAD+1:\n",
    "        track_feats[y, x, 4] = 1"
   ]
  },
  {
   "cell_type": "markdown",
   "metadata": {},
   "source": [
    "### Left switches from Agent's perspective"
   ]
  },
  {
   "cell_type": "code",
   "execution_count": 35,
   "metadata": {},
   "outputs": [],
   "source": [
    "inds = (switches_mask*p_dist_mask*np.in1d(trans_vec, switch_types[dir_]['L'])).nonzero()[0]\n",
    "ys, xs = np.unravel_index(inds, env_shape)\n",
    "for y, x in zip(ys-py+RAD+1, xs-px+RAD+1):\n",
    "    if y < 2*RAD+1 and x < 2*RAD+1:\n",
    "        track_feats[y, x, 2] = 1"
   ]
  },
  {
   "cell_type": "markdown",
   "metadata": {},
   "source": [
    "### Left non-switches from Agent's perspective"
   ]
  },
  {
   "cell_type": "code",
   "execution_count": 36,
   "metadata": {},
   "outputs": [],
   "source": [
    "inds = (unidir_mask*p_dist_mask*np.in1d(trans_vec, switch_types[dir_]['L'])).nonzero()[0]\n",
    "ys, xs = np.unravel_index(inds, env_shape)\n",
    "for y, x in zip(ys-py+RAD+1, xs-px+RAD+1):\n",
    "    if y < 2*RAD+1 and x < 2*RAD+1:\n",
    "        track_feats[y, x, 5] = 1"
   ]
  },
  {
   "cell_type": "markdown",
   "metadata": {},
   "source": [
    "### RGB color map of switches from Agent's perspective"
   ]
  },
  {
   "cell_type": "code",
   "execution_count": 37,
   "metadata": {},
   "outputs": [
    {
     "data": {
      "text/plain": [
       "<matplotlib.image.AxesImage at 0x1b3886568c8>"
      ]
     },
     "execution_count": 37,
     "metadata": {},
     "output_type": "execute_result"
    },
    {
     "data": {
      "image/png": "[encoded data removed]",
      "text/plain": [
       "<Figure size 432x288 with 1 Axes>"
      ]
     },
     "metadata": {
      "needs_background": "light"
     },
     "output_type": "display_data"
    }
   ],
   "source": [
    "plt.imshow(track_feats[:, :, :3])"
   ]
  },
  {
   "cell_type": "markdown",
   "metadata": {},
   "source": [
    "### RGB color map of non-switches from Agent's perspective"
   ]
  },
  {
   "cell_type": "code",
   "execution_count": 38,
   "metadata": {},
   "outputs": [
    {
     "data": {
      "text/plain": [
       "<matplotlib.image.AxesImage at 0x1b389980388>"
      ]
     },
     "execution_count": 38,
     "metadata": {},
     "output_type": "execute_result"
    },
    {
     "data": {
      "image/png": "[encoded data removed]",
      "text/plain": [
       "<Figure size 432x288 with 1 Axes>"
      ]
     },
     "metadata": {
      "needs_background": "light"
     },
     "output_type": "display_data"
    }
   ],
   "source": [
    "plt.imshow(track_feats[:, :, 3:])"
   ]
  },
  {
   "cell_type": "markdown",
   "metadata": {},
   "source": [
    "### Other Agent's from Agent's perspective"
   ]
  },
  {
   "cell_type": "code",
   "execution_count": 39,
   "metadata": {},
   "outputs": [
    {
     "data": {
      "text/plain": [
       "<matplotlib.image.AxesImage at 0x1b38943db88>"
      ]
     },
     "execution_count": 39,
     "metadata": {},
     "output_type": "execute_result"
    },
    {
     "data": {
      "image/png": "[encoded data removed]",
      "text/plain": [
       "<Figure size 432x288 with 1 Axes>"
      ]
     },
     "metadata": {
      "needs_background": "light"
     },
     "output_type": "display_data"
    }
   ],
   "source": [
    "other_agents = np.zeros((2*RAD+1, 2*RAD+1, 1))\n",
    "agents_pos_c = copy(agents_pos)\n",
    "agents_pos_c[i] -= 1\n",
    "inds = (p_dist_mask*agents_pos_c).nonzero()[0]\n",
    "ys, xs = np.unravel_index(inds, env_shape)\n",
    "for y, x in zip(ys-py+RAD+1, xs-px+RAD+1):\n",
    "    if y < 2*RAD+1 and x < 2*RAD+1:\n",
    "        other_agents[y, x, 0] = 1\n",
    "plt.imshow(other_agents[:, :, 0])"
   ]
  },
  {
   "cell_type": "code",
   "execution_count": 40,
   "metadata": {},
   "outputs": [],
   "source": [
    "all_feats = ['dist_own_target_encountered',\n",
    "                'own_target_encountered_pos',\n",
    "                'dist_other_target_encountered',\n",
    "                'other_target_encountered_pos',\n",
    "                'dist_other_agent_encountered',\n",
    "                'other_agent_encountered_pos',\n",
    "                'dist_potential_conflict',\n",
    "                'potential_conflict_pos',\n",
    "                'dist_unusable_switch',\n",
    "                'unusable_switch_pos',\n",
    "                'dist_to_next_branch',\n",
    "                'next_branch_pos',\n",
    "                'dist_min_to_target',\n",
    "                'num_agents_same_direction',\n",
    "                'other_agent_same_direction_pos',\n",
    "                'num_agents_opposite_direction',\n",
    "                'other_agent_opposite_direction_pos',\n",
    "                'num_agents_malfunctioning',\n",
    "                'malfunctioning_agent_pos',\n",
    "                'speed_min_fractional',\n",
    "                'other_agent_slower_pos',\n",
    "                'other_agent_same_speed_pos',\n",
    "                'other_agent_faster_pos',\n",
    "                'num_agents_ready_to_depart',\n",
    "             \n",
    "                'other_agent_ready_to_depart_encountered_pos',\n",
    "                'childs'\n",
    "            ]\n",
    "\n",
    "geo_feats = ['own_target_encountered_pos',\n",
    "                'other_target_encountered_pos',\n",
    "                'other_agent_encountered_pos',\n",
    "                'potential_conflict_pos',\n",
    "                'unusable_switch_pos',\n",
    "                'next_branch_pos',\n",
    "                'other_agent_same_direction_pos',\n",
    "                'other_agent_opposite_direction_pos',\n",
    "                'malfunctioning_agent_pos',\n",
    "                'other_agent_slower_pos',\n",
    "                'other_agent_same_speed_pos',\n",
    "                'other_agent_faster_pos',\n",
    "                'other_agent_ready_to_depart_encountered_pos'\n",
    "               ]\n",
    "\n",
    "geo_feat_inds = np.in1d(all_feats, geo_feats).nonzero()[0]"
   ]
  },
  {
   "cell_type": "markdown",
   "metadata": {},
   "source": [
    "### Depth Search to build Feature Maps from Shortest Path"
   ]
  },
  {
   "cell_type": "code",
   "execution_count": null,
   "metadata": {},
   "outputs": [],
   "source": [
    "start_ = time.time()\n",
    "n_ch = 15\n",
    "tree_feats = np.zeros((2*RAD+1, 2*RAD+1, n_ch*max_depth))\n",
    "_shortest_path = []\n",
    "cy, cx = env.agents[agent_num].initial_position\n",
    "node = env.obs_dict[agent_num]\n",
    "exploring = True\n",
    "depth = 0\n",
    "while exploring:\n",
    "    _dist_min_to_target_best = np.inf\n",
    "    _dir_best = None\n",
    "    for d in _dirs:\n",
    "        if node.childs == {}:\n",
    "            exploring = False\n",
    "            break\n",
    "        if node.childs[d] == -np.inf:\n",
    "            continue\n",
    "        _dist_min_to_target = np.abs(node.childs[d].dist_min_to_target)\n",
    "        if _dist_min_to_target <= _dist_min_to_target_best:\n",
    "            _dist_min_to_target_best = _dist_min_to_target\n",
    "            _dir_best = d\n",
    "    if exploring:\n",
    "        _shortest_path.append(_dir_best)\n",
    "        for ch, fid in enumerate(geo_feat_inds):\n",
    "            if node.childs[_dir_best][fid] is None:\n",
    "                continue\n",
    "            for (dist_, (py, px)) in node.childs[_dir_best][fid]:\n",
    "                print((dist_, (py, px)))\n",
    "                if dist_ <= 2*RAD+1:\n",
    "                    y, x = py-cy+RAD+1, px-cx+RAD+1\n",
    "                    if y < 2*RAD+1 and x < 2*RAD + 1:\n",
    "                        tree_feats[y, x, n_ch * depth + ch] = 1 \n",
    "        node = node.childs[_dir_best]\n",
    "        depth += 1\n",
    "end_ = time.time()\n",
    "print(end_-start_)\n"
   ]
  },
  {
   "cell_type": "code",
   "execution_count": null,
   "metadata": {},
   "outputs": [],
   "source": [
    "f_maps = np.dstack((track_feats, other_agents, tree_feats))          \n",
    "                    "
   ]
  },
  {
   "cell_type": "code",
   "execution_count": null,
   "metadata": {},
   "outputs": [],
   "source": []
  }
 ],
 "metadata": {
  "kernelspec": {
   "display_name": "Python 3",
   "language": "python",
   "name": "python3"
  },
  "language_info": {
   "codemirror_mode": {
    "name": "ipython",
    "version": 3
   },
   "file_extension": ".py",
   "mimetype": "text/x-python",
   "name": "python",
   "nbconvert_exporter": "python",
   "pygments_lexer": "ipython3",
   "version": "3.7.4"
  }
 },
 "nbformat": 4,
 "nbformat_minor": 2
}
